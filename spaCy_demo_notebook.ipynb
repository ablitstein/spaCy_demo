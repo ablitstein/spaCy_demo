{
 "cells": [
  {
   "cell_type": "markdown",
   "metadata": {},
   "source": [
    "# spaCy Demo"
   ]
  },
  {
   "cell_type": "code",
   "execution_count": 159,
   "metadata": {
    "collapsed": true
   },
   "outputs": [],
   "source": [
    "# Import spaCy's English analyzer and the location where data is stored\n",
    "import pandas as pd\n",
    "from spacy.en import English, LOCAL_DATA_DIR"
   ]
  },
  {
   "cell_type": "code",
   "execution_count": 2,
   "metadata": {
    "collapsed": true
   },
   "outputs": [],
   "source": [
    "# What's the English object all about?\n",
    "English?"
   ]
  },
  {
   "cell_type": "code",
   "execution_count": 3,
   "metadata": {
    "collapsed": false
   },
   "outputs": [],
   "source": [
    "# Set up spaCy NLP analyzer (tokenizer, parser, NER-er, etc.)\n",
    "nlp_analyzer = English(data_dir=LOCAL_DATA_DIR)"
   ]
  },
  {
   "cell_type": "code",
   "execution_count": 4,
   "metadata": {
    "collapsed": true
   },
   "outputs": [],
   "source": [
    "# How does one interact with the analyzer object?\n",
    "nlp_analyzer?"
   ]
  },
  {
   "cell_type": "markdown",
   "metadata": {},
   "source": [
    "## Input"
   ]
  },
  {
   "cell_type": "code",
   "execution_count": 32,
   "metadata": {
    "collapsed": false
   },
   "outputs": [
    {
     "name": "stdout",
     "output_type": "stream",
     "text": [
      "100 loops, best of 3: 4.21 ms per loop\n"
     ]
    }
   ],
   "source": [
    "\"\"\"\n",
    "The analyzer expects as input text -- the output contains all types of analysis\n",
    "(parsing, tagging, and entity recognition can be turned off by setting them to\n",
    "False)\n",
    "\n",
    "Here's some input text that we'll use:\n",
    "\"\"\"\n",
    "text = [\"This is a very simple sentence.\",\n",
    "        \"This sentence, which is moderately more complex, is still quite simple.\",\n",
    "        \"The two preceding sentences are easy to understand, hopefully easy to parse too.\",\n",
    "        \"These sentences will be correctly parsed and tokenized if the gods look favorably on this demo.\",\n",
    "        \"I hope that strange words like vapidity and celerity don't confuse the analyser (nor British spellings).\",\n",
    "        \"One would even hopes that ungrammatical sentences not effects the parsing drammatically.\"]\n",
    "text = ' '.join(text)\n",
    "\n",
    "\"\"\"\n",
    "Let's analyze it and also get a sense for how long it takes for a text of this size\n",
    "to be analyzed\n",
    "\"\"\"\n",
    "%timeit nlp_analyzer(text)\n",
    "analyzed_text = nlp_analyzer(text)"
   ]
  },
  {
   "cell_type": "code",
   "execution_count": null,
   "metadata": {
    "collapsed": true
   },
   "outputs": [],
   "source": [
    "analyzed_text."
   ]
  },
  {
   "cell_type": "markdown",
   "metadata": {},
   "source": [
    "## Sentence Recognition"
   ]
  },
  {
   "cell_type": "code",
   "execution_count": 33,
   "metadata": {
    "collapsed": false
   },
   "outputs": [
    {
     "name": "stdout",
     "output_type": "stream",
     "text": [
      "This is a very simple sentence.\n",
      "\n",
      "This sentence, which is moderately more complex, is still quite simple.\n",
      "\n",
      "The two preceding sentences are easy to understand, hopefully easy to parse too.\n",
      "\n",
      "These sentences will be correctly parsed and tokenized if the gods look favorably on this demo.\n",
      "\n",
      "I hope that strange words like vapidity and celerity don't confuse the analyser (nor British spellings).\n",
      "\n",
      "One would even hopes that ungrammatical sentences not effects the parsing drammatically.\n",
      "\n"
     ]
    }
   ],
   "source": [
    "\"\"\"\n",
    "Let's take a look at what's in the output\n",
    "\n",
    "The output is automatically divided up into the constituent sentences (.sents\n",
    "attribute) and the sentences and text are composed of constituent tokens\n",
    "\"\"\"\n",
    "for sent in analyzed_text.sents:\n",
    "    print('{}\\n'.format(sent))"
   ]
  },
  {
   "cell_type": "markdown",
   "metadata": {},
   "source": [
    "### .sents"
   ]
  },
  {
   "cell_type": "code",
   "execution_count": 46,
   "metadata": {
    "collapsed": true
   },
   "outputs": [],
   "source": [
    "\"\"\"\n",
    "The .sents attribute is a generator and it stores the objects corresponding to each\n",
    "recognized sentence\n",
    "\"\"\"\n",
    "sent = list(analyzed_text.sents)[0]"
   ]
  },
  {
   "cell_type": "code",
   "execution_count": 52,
   "metadata": {
    "collapsed": false
   },
   "outputs": [
    {
     "data": {
      "text/plain": [
       "spacy.tokens.span.Span"
      ]
     },
     "execution_count": 52,
     "metadata": {},
     "output_type": "execute_result"
    }
   ],
   "source": [
    "\"\"\"\n",
    "Each sentence is of type spacy.tokens.span.Span, which is basically just a sequence\n",
    "of token objects (more on that later)\n",
    "\n",
    "Here you can see the type of the objects\n",
    "\"\"\"\n",
    "type(sent)"
   ]
  },
  {
   "cell_type": "markdown",
   "metadata": {},
   "source": [
    "### .string or .orth_"
   ]
  },
  {
   "cell_type": "code",
   "execution_count": 82,
   "metadata": {
    "collapsed": false
   },
   "outputs": [
    {
     "data": {
      "text/plain": [
       "'This is a very simple sentence.'"
      ]
     },
     "execution_count": 82,
     "metadata": {},
     "output_type": "execute_result"
    }
   ],
   "source": [
    "\"\"\"\n",
    "To get the string representation of anything (not just a sentence object), i.e., the\n",
    "original token, the original sentence, the lemma, etc., use the .string or .orth_\n",
    "attributes\n",
    "\"\"\"\n",
    "sent.orth_"
   ]
  },
  {
   "cell_type": "code",
   "execution_count": 84,
   "metadata": {
    "collapsed": false
   },
   "outputs": [
    {
     "data": {
      "text/plain": [
       "'This is a very simple sentence. '"
      ]
     },
     "execution_count": 84,
     "metadata": {},
     "output_type": "execute_result"
    }
   ],
   "source": [
    "# The .string attribute contains whitespace\n",
    "sent.string"
   ]
  },
  {
   "cell_type": "markdown",
   "metadata": {},
   "source": [
    "## Miscellaneous String Attributes"
   ]
  },
  {
   "cell_type": "markdown",
   "metadata": {},
   "source": [
    "### .is_alpha, .is_oov, .is_space, .like_email, .is_title, etc."
   ]
  },
  {
   "cell_type": "code",
   "execution_count": 186,
   "metadata": {
    "collapsed": false
   },
   "outputs": [
    {
     "data": {
      "text/html": [
       "<div>\n",
       "<table border=\"1\" class=\"dataframe\">\n",
       "  <thead>\n",
       "    <tr style=\"text-align: right;\">\n",
       "      <th></th>\n",
       "      <th>ASCII</th>\n",
       "      <th>OOV</th>\n",
       "      <th>Token</th>\n",
       "      <th>digit</th>\n",
       "      <th>letter</th>\n",
       "      <th>like_email</th>\n",
       "      <th>like_number</th>\n",
       "      <th>like_url</th>\n",
       "      <th>lower</th>\n",
       "      <th>lowercased</th>\n",
       "      <th>prefix</th>\n",
       "      <th>punct</th>\n",
       "      <th>shape</th>\n",
       "      <th>space</th>\n",
       "      <th>stop</th>\n",
       "      <th>suffix</th>\n",
       "      <th>titlecase</th>\n",
       "    </tr>\n",
       "  </thead>\n",
       "  <tbody>\n",
       "    <tr>\n",
       "      <th>0</th>\n",
       "      <td>True</td>\n",
       "      <td>False</td>\n",
       "      <td>This</td>\n",
       "      <td>False</td>\n",
       "      <td>True</td>\n",
       "      <td>False</td>\n",
       "      <td>False</td>\n",
       "      <td>False</td>\n",
       "      <td>False</td>\n",
       "      <td>this</td>\n",
       "      <td>T</td>\n",
       "      <td>False</td>\n",
       "      <td>Xxxx</td>\n",
       "      <td>False</td>\n",
       "      <td>True</td>\n",
       "      <td>his</td>\n",
       "      <td>True</td>\n",
       "    </tr>\n",
       "    <tr>\n",
       "      <th>1</th>\n",
       "      <td>True</td>\n",
       "      <td>False</td>\n",
       "      <td>is</td>\n",
       "      <td>False</td>\n",
       "      <td>True</td>\n",
       "      <td>False</td>\n",
       "      <td>False</td>\n",
       "      <td>False</td>\n",
       "      <td>True</td>\n",
       "      <td>is</td>\n",
       "      <td>i</td>\n",
       "      <td>False</td>\n",
       "      <td>xx</td>\n",
       "      <td>False</td>\n",
       "      <td>True</td>\n",
       "      <td>is</td>\n",
       "      <td>False</td>\n",
       "    </tr>\n",
       "    <tr>\n",
       "      <th>2</th>\n",
       "      <td>True</td>\n",
       "      <td>False</td>\n",
       "      <td>a</td>\n",
       "      <td>False</td>\n",
       "      <td>True</td>\n",
       "      <td>False</td>\n",
       "      <td>False</td>\n",
       "      <td>False</td>\n",
       "      <td>True</td>\n",
       "      <td>a</td>\n",
       "      <td>a</td>\n",
       "      <td>False</td>\n",
       "      <td>x</td>\n",
       "      <td>False</td>\n",
       "      <td>True</td>\n",
       "      <td>a</td>\n",
       "      <td>False</td>\n",
       "    </tr>\n",
       "    <tr>\n",
       "      <th>3</th>\n",
       "      <td>True</td>\n",
       "      <td>False</td>\n",
       "      <td>very</td>\n",
       "      <td>False</td>\n",
       "      <td>True</td>\n",
       "      <td>False</td>\n",
       "      <td>False</td>\n",
       "      <td>False</td>\n",
       "      <td>True</td>\n",
       "      <td>very</td>\n",
       "      <td>v</td>\n",
       "      <td>False</td>\n",
       "      <td>xxxx</td>\n",
       "      <td>False</td>\n",
       "      <td>True</td>\n",
       "      <td>ery</td>\n",
       "      <td>False</td>\n",
       "    </tr>\n",
       "    <tr>\n",
       "      <th>4</th>\n",
       "      <td>True</td>\n",
       "      <td>False</td>\n",
       "      <td>simple</td>\n",
       "      <td>False</td>\n",
       "      <td>True</td>\n",
       "      <td>False</td>\n",
       "      <td>False</td>\n",
       "      <td>False</td>\n",
       "      <td>True</td>\n",
       "      <td>simple</td>\n",
       "      <td>s</td>\n",
       "      <td>False</td>\n",
       "      <td>xxxx</td>\n",
       "      <td>False</td>\n",
       "      <td>False</td>\n",
       "      <td>ple</td>\n",
       "      <td>False</td>\n",
       "    </tr>\n",
       "    <tr>\n",
       "      <th>5</th>\n",
       "      <td>True</td>\n",
       "      <td>False</td>\n",
       "      <td>sentence</td>\n",
       "      <td>False</td>\n",
       "      <td>True</td>\n",
       "      <td>False</td>\n",
       "      <td>False</td>\n",
       "      <td>False</td>\n",
       "      <td>True</td>\n",
       "      <td>sentence</td>\n",
       "      <td>s</td>\n",
       "      <td>False</td>\n",
       "      <td>xxxx</td>\n",
       "      <td>False</td>\n",
       "      <td>False</td>\n",
       "      <td>nce</td>\n",
       "      <td>False</td>\n",
       "    </tr>\n",
       "    <tr>\n",
       "      <th>6</th>\n",
       "      <td>True</td>\n",
       "      <td>False</td>\n",
       "      <td>.</td>\n",
       "      <td>False</td>\n",
       "      <td>False</td>\n",
       "      <td>False</td>\n",
       "      <td>False</td>\n",
       "      <td>False</td>\n",
       "      <td>False</td>\n",
       "      <td>.</td>\n",
       "      <td>.</td>\n",
       "      <td>True</td>\n",
       "      <td>.</td>\n",
       "      <td>False</td>\n",
       "      <td>False</td>\n",
       "      <td>.</td>\n",
       "      <td>False</td>\n",
       "    </tr>\n",
       "  </tbody>\n",
       "</table>\n",
       "</div>"
      ],
      "text/plain": [
       "  ASCII    OOV     Token  digit letter like_email like_number like_url  lower  \\\n",
       "0  True  False      This  False   True      False       False    False  False   \n",
       "1  True  False        is  False   True      False       False    False   True   \n",
       "2  True  False         a  False   True      False       False    False   True   \n",
       "3  True  False      very  False   True      False       False    False   True   \n",
       "4  True  False    simple  False   True      False       False    False   True   \n",
       "5  True  False  sentence  False   True      False       False    False   True   \n",
       "6  True  False         .  False  False      False       False    False  False   \n",
       "\n",
       "  lowercased prefix  punct shape  space   stop suffix titlecase  \n",
       "0       this      T  False  Xxxx  False   True    his      True  \n",
       "1         is      i  False    xx  False   True     is     False  \n",
       "2          a      a  False     x  False   True      a     False  \n",
       "3       very      v  False  xxxx  False   True    ery     False  \n",
       "4     simple      s  False  xxxx  False  False    ple     False  \n",
       "5   sentence      s  False  xxxx  False  False    nce     False  \n",
       "6          .      .   True     .  False  False      .     False  "
      ]
     },
     "execution_count": 186,
     "metadata": {},
     "output_type": "execute_result"
    }
   ],
   "source": [
    "\"\"\"\n",
    "Various pieces of information can be collected about each object representing a\n",
    "token.\n",
    "\"\"\"\n",
    "lines = []\n",
    "for token in sent:\n",
    "    lines.append(dict(Token=token.orth_, letter=token.is_alpha, ASCII=token.is_ascii,\n",
    "                      digit=token.is_digit, lower=token.is_lower, OOV=token.is_oov,\n",
    "                      punct=token.is_punct, space=token.is_space, stop=token.is_stop,\n",
    "                      titlecase=token.is_title, like_email=token.like_email,\n",
    "                      like_number=token.like_num, like_url=token.like_url,\n",
    "                      shape=token.shape_, prefix=token.prefix_, suffix=token.suffix_,\n",
    "                      lowercased=token.lower_))\n",
    "pd.DataFrame(lines)"
   ]
  },
  {
   "cell_type": "markdown",
   "metadata": {},
   "source": [
    "### .doc attribute"
   ]
  },
  {
   "cell_type": "code",
   "execution_count": 60,
   "metadata": {
    "collapsed": false
   },
   "outputs": [
    {
     "data": {
      "text/plain": [
       "This is a very simple sentence. This sentence, which is moderately more complex, is still quite simple. The two preceding sentences are easy to understand, hopefully easy to parse too. These sentences will be correctly parsed and tokenized if the gods look favorably on this demo. I hope that strange words like vapidity and celerity don't confuse the analyser (nor British spellings). One would even hopes that ungrammatical sentences not effects the parsing drammatically."
      ]
     },
     "execution_count": 60,
     "metadata": {},
     "output_type": "execute_result"
    }
   ],
   "source": [
    "\"\"\"\n",
    "If you want the whole document that the sentence occurred in, use the .doc attribute.\n",
    "\"\"\"\n",
    "sent.doc"
   ]
  },
  {
   "cell_type": "markdown",
   "metadata": {},
   "source": [
    "## Lemmatization"
   ]
  },
  {
   "cell_type": "markdown",
   "metadata": {},
   "source": [
    "### .lemma_"
   ]
  },
  {
   "cell_type": "code",
   "execution_count": 68,
   "metadata": {
    "collapsed": false
   },
   "outputs": [
    {
     "data": {
      "text/plain": [
       "'this be a very simple sentence .'"
      ]
     },
     "execution_count": 68,
     "metadata": {},
     "output_type": "execute_result"
    }
   ],
   "source": [
    "\"\"\"\n",
    "A lemmatized version of the object can be accessed via the .lemma_ attribute\n",
    "\"\"\"\n",
    "sent.lemma_"
   ]
  },
  {
   "cell_type": "markdown",
   "metadata": {},
   "source": [
    "## Parts of Speech and Tags"
   ]
  },
  {
   "cell_type": "code",
   "execution_count": 181,
   "metadata": {
    "collapsed": false
   },
   "outputs": [
    {
     "data": {
      "text/html": [
       "<div>\n",
       "<table border=\"1\" class=\"dataframe\">\n",
       "  <thead>\n",
       "    <tr style=\"text-align: right;\">\n",
       "      <th></th>\n",
       "      <th>Token</th>\n",
       "      <th>part_of_speech</th>\n",
       "      <th>tag</th>\n",
       "    </tr>\n",
       "  </thead>\n",
       "  <tbody>\n",
       "    <tr>\n",
       "      <th>0</th>\n",
       "      <td>This</td>\n",
       "      <td>DET</td>\n",
       "      <td>DT</td>\n",
       "    </tr>\n",
       "    <tr>\n",
       "      <th>1</th>\n",
       "      <td>is</td>\n",
       "      <td>VERB</td>\n",
       "      <td>VBZ</td>\n",
       "    </tr>\n",
       "    <tr>\n",
       "      <th>2</th>\n",
       "      <td>a</td>\n",
       "      <td>DET</td>\n",
       "      <td>DT</td>\n",
       "    </tr>\n",
       "    <tr>\n",
       "      <th>3</th>\n",
       "      <td>very</td>\n",
       "      <td>ADV</td>\n",
       "      <td>RB</td>\n",
       "    </tr>\n",
       "    <tr>\n",
       "      <th>4</th>\n",
       "      <td>simple</td>\n",
       "      <td>ADJ</td>\n",
       "      <td>JJ</td>\n",
       "    </tr>\n",
       "    <tr>\n",
       "      <th>5</th>\n",
       "      <td>sentence</td>\n",
       "      <td>NOUN</td>\n",
       "      <td>NN</td>\n",
       "    </tr>\n",
       "    <tr>\n",
       "      <th>6</th>\n",
       "      <td>.</td>\n",
       "      <td>PUNCT</td>\n",
       "      <td>.</td>\n",
       "    </tr>\n",
       "  </tbody>\n",
       "</table>\n",
       "</div>"
      ],
      "text/plain": [
       "      Token part_of_speech  tag\n",
       "0      This            DET   DT\n",
       "1        is           VERB  VBZ\n",
       "2         a            DET   DT\n",
       "3      very            ADV   RB\n",
       "4    simple            ADJ   JJ\n",
       "5  sentence           NOUN   NN\n",
       "6         .          PUNCT    ."
      ]
     },
     "execution_count": 181,
     "metadata": {},
     "output_type": "execute_result"
    }
   ],
   "source": [
    "tokens = []\n",
    "for token in sent:\n",
    "    tokens.append(dict(Token=token.orth_, tag=token.tag_, part_of_speech=token.pos_))\n",
    "pd.DataFrame(tokens)"
   ]
  },
  {
   "cell_type": "markdown",
   "metadata": {},
   "source": [
    "## Parsing"
   ]
  },
  {
   "cell_type": "markdown",
   "metadata": {},
   "source": [
    "### .root"
   ]
  },
  {
   "cell_type": "code",
   "execution_count": 128,
   "metadata": {
    "collapsed": false
   },
   "outputs": [
    {
     "name": "stdout",
     "output_type": "stream",
     "text": [
      "sentence = This is a very simple sentence.\n",
      "root of sentence = is \n"
     ]
    }
   ],
   "source": [
    "print(\"sentence = {}\".format(sent.orth_))\n",
    "print(\"root of sentence = {}\".format(sent.root))"
   ]
  },
  {
   "cell_type": "markdown",
   "metadata": {},
   "source": [
    "### .children, .dep_ attributes"
   ]
  },
  {
   "cell_type": "code",
   "execution_count": 126,
   "metadata": {
    "collapsed": false
   },
   "outputs": [
    {
     "name": "stdout",
     "output_type": "stream",
     "text": [
      "sentence = This is a very simple sentence.\n",
      "token: is \n",
      "children: [This , sentence, . ]\n",
      "head: is \n",
      "dependency relationship: ROOT\n"
     ]
    }
   ],
   "source": [
    "\"\"\"\n",
    "Parse tree-related attributes can be accessed for each token, such as the\n",
    "children/parents of the token, the dependency relationships, etc.\n",
    "\"\"\"\n",
    "token = sent[1]\n",
    "print(\"sentence = {}\".format(sent.orth_))\n",
    "print(\"token: {}\".format(token))\n",
    "print(\"children: {}\".format(list(token.children)))\n",
    "print(\"head: {}\".format(token.head))\n",
    "print(\"dependency relationship: {}\".format(token.dep_))\n"
   ]
  },
  {
   "cell_type": "code",
   "execution_count": 185,
   "metadata": {
    "collapsed": false
   },
   "outputs": [
    {
     "name": "stdout",
     "output_type": "stream",
     "text": [
      "original: This\n",
      "log probability: -6.78391695022583\n",
      "Brown cluster id: 382\n",
      "----------------------------------------\n",
      "original: is\n",
      "log probability: -4.457748889923096\n",
      "Brown cluster id: 762\n",
      "----------------------------------------\n",
      "original: a\n",
      "log probability: -3.92978835105896\n",
      "Brown cluster id: 19\n",
      "----------------------------------------\n"
     ]
    }
   ],
   "source": [
    "for i, token in enumerate(sent):\n",
    "    print(\"original:\", token.orth_)\n",
    "    print(\"log probability:\", token.prob)\n",
    "    print(\"Brown cluster id:\", token.cluster)\n",
    "    print(\"----------------------------------------\")\n",
    "    if i > 1:\n",
    "        break"
   ]
  },
  {
   "cell_type": "code",
   "execution_count": null,
   "metadata": {
    "collapsed": true
   },
   "outputs": [],
   "source": []
  }
 ],
 "metadata": {
  "kernelspec": {
   "display_name": "Python 3",
   "language": "python",
   "name": "python3"
  },
  "language_info": {
   "codemirror_mode": {
    "name": "ipython",
    "version": 3
   },
   "file_extension": ".py",
   "mimetype": "text/x-python",
   "name": "python",
   "nbconvert_exporter": "python",
   "pygments_lexer": "ipython3",
   "version": "3.4.3"
  }
 },
 "nbformat": 4,
 "nbformat_minor": 0
}
